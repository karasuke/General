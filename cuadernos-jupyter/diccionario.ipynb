{
 "cells": [
  {
   "cell_type": "markdown",
   "metadata": {},
   "source": [
    "ambién puede modificar valores dentro de un objeto de diccionario, con el método update. Este método acepta un diccionario como parámetro y actualiza los valores existentes con los nuevos que proporcione. Si quiere cambiar name para el diccionario planet, puede usar lo siguiente, por ejemplo:"
   ]
  },
  {
   "cell_type": "code",
   "execution_count": 21,
   "metadata": {},
   "outputs": [
    {
     "name": "stdout",
     "output_type": "stream",
     "text": [
      "4333\n",
      "Makemake diametro polar: 133709\n"
     ]
    }
   ],
   "source": [
    "planet = {\n",
    "    'name': 'Earth',\n",
    "    'moons': 1\n",
    "}\n",
    "\n",
    "#el siguiente codigo se usa para modificar el nombre de planeta inicial de Earth a Makemake\n",
    "planet[\"name\"] = \"Makemake\"\n",
    "planet[\"periodo_orbital\"] = 4333\n",
    "\n",
    "print(planet[\"periodo_orbital\"])\n",
    "planet.pop('periodo_orbital')\n",
    "planet['diameter (km)'] = {\n",
    "    'polar': 133709,\n",
    "    'equatorial': 142984\n",
    "}\n",
    "print(f'{planet[\"name\"]} diametro polar: {planet[\"diameter (km)\"][\"polar\"]}')"
   ]
  },
  {
   "cell_type": "code",
   "execution_count": 43,
   "metadata": {},
   "outputs": [
    {
     "name": "stdout",
     "output_type": "stream",
     "text": [
      "marte tiene 2 lunas  y su circunferencia polar es 6752\n"
     ]
    }
   ],
   "source": [
    "\n",
    "\n",
    "planetas = {\n",
    "\n",
    "    \"nombre\":\"marte\",\n",
    "    \"lunas\": 2\n",
    "\n",
    "\n",
    "\n",
    "}\n",
    "\n",
    "planetas[\"circunferencia\"] = {\n",
    "        \"polar\":6752,\n",
    "        \"equatorial\":6792\n",
    "}\n",
    "\n",
    "\n",
    "\n",
    "\n",
    "\n",
    "print(f'{planetas[\"nombre\"]} tiene {planetas[\"lunas\"]} lunas  y su circunferencia polar es {planetas[\"circunferencia\"][\"polar\"]}')\n",
    "\n",
    "\n"
   ]
  },
  {
   "cell_type": "code",
   "execution_count": 60,
   "metadata": {},
   "outputs": [
    {
     "name": "stdout",
     "output_type": "stream",
     "text": [
      "october: 3.5cm\n",
      "november: 4.2cm\n",
      "december: 2.1cm\n",
      "en total hubo 10.8 en el ultimo trimestre\n"
     ]
    }
   ],
   "source": [
    "rainfall = {\n",
    "    'october': 3.5,\n",
    "    'november': 4.2,\n",
    "    'december': 2.1\n",
    "}\n",
    "#metodo .keys(primer valor) devuelve los valores almacenados rainfall y los almacena en key\n",
    "for key in rainfall.keys():\n",
    "    print(f'{key}: {rainfall[key]}cm')\n",
    "\n",
    "if 'december' in rainfall:\n",
    "    rainfall['december'] = rainfall['december'] + 1\n",
    "else:\n",
    "    rainfall['december'] = 1\n",
    "\n",
    "total_rainfall = 0\n",
    "#segundo metodo para devolver la cantidad total de datos almacenados en rainfall (segundo valor)\n",
    "for value in rainfall.values():\n",
    "\n",
    "    total_rainfall += value\n",
    "print(f'en total hubo {total_rainfall} en el ultimo trimestre')\n",
    "\n"
   ]
  },
  {
   "cell_type": "code",
   "execution_count": 2,
   "metadata": {},
   "outputs": [
    {
     "name": "stdout",
     "output_type": "stream",
     "text": [
      "hay un total de 12 planetas y el promedio de lunas es de 17 la suma total de lunas es de 214\n",
      "dict_values([0, 0, 1, 2, 79, 82, 27, 14, 5, 2, 1, 1])\n"
     ]
    }
   ],
   "source": [
    "planetas_lunas = {\n",
    "\n",
    "    \"mercury\": 0,\n",
    "    \"venus\": 0,\n",
    "    \"earth\": 1,\n",
    "    \"mars\": 2,\n",
    "    \"jupiter\": 79,\n",
    "    \"saturn\": 82,\n",
    "    \"uranus\": 27,\n",
    "    \"neptune\": 14,\n",
    "    \"pluto\": 5,\n",
    "    \"haumea\": 2,\n",
    "    \"makemake\": 1,\n",
    "    \"eris\": 1\n",
    "}\n",
    "\n",
    "planetas= len(planetas_lunas.keys())\n",
    "total_lunas = planetas_lunas.values()\n",
    "\n",
    "lunas = 0\n",
    "for suma_lunas in total_lunas:\n",
    "   lunas += suma_lunas\n",
    "promedio = lunas // planetas\n",
    "print(f'hay un total de {planetas} planetas y el promedio de lunas es de {promedio} la suma total de lunas es de {lunas}' )\n",
    "\n",
    "print(total_lunas)\n",
    "\n",
    "\n",
    "\n",
    "    \n",
    "\n",
    "\n"
   ]
  }
 ],
 "metadata": {
  "kernelspec": {
   "display_name": "Python 3.10.5 ('miproyecto': venv)",
   "language": "python",
   "name": "python3"
  },
  "language_info": {
   "codemirror_mode": {
    "name": "ipython",
    "version": 3
   },
   "file_extension": ".py",
   "mimetype": "text/x-python",
   "name": "python",
   "nbconvert_exporter": "python",
   "pygments_lexer": "ipython3",
   "version": "3.10.5"
  },
  "orig_nbformat": 4,
  "vscode": {
   "interpreter": {
    "hash": "94f72e549b16f5944caac931e4a0eb7ff7644eb3296c8a419e20dd65c6bfb686"
   }
  }
 },
 "nbformat": 4,
 "nbformat_minor": 2
}
