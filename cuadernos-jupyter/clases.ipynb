{
 "cells": [
  {
   "cell_type": "code",
   "execution_count": 7,
   "metadata": {},
   "outputs": [
    {
     "name": "stdout",
     "output_type": "stream",
     "text": [
      "The elevator company\n",
      "1\n"
     ]
    }
   ],
   "source": [
    "class Elevator:\n",
    "    def __init__(self, starting_floor):\n",
    "        self.make = \"The elevator company\"\n",
    "        self.floor = starting_floor\n",
    "\n",
    "elevator = Elevator(1)\n",
    "print(elevator.make) # \"The Elevator company\"\n",
    "print(elevator.floor) # 1        "
   ]
  },
  {
   "cell_type": "code",
   "execution_count": 12,
   "metadata": {},
   "outputs": [
    {
     "name": "stdout",
     "output_type": "stream",
     "text": [
      "the elevator company\n",
      "1\n"
     ]
    }
   ],
   "source": [
    "class elevator:\n",
    "    def __init__(self, starting_floor):\n",
    "        self.make = \"the elevator company\"\n",
    "        self.floor = starting_floor\n",
    "elevador = elevator(1)\n",
    "print(elevador.make)\n",
    "print(elevador.floor)\n",
    "        "
   ]
  },
  {
   "cell_type": "code",
   "execution_count": null,
   "metadata": {},
   "outputs": [],
   "source": [
    "class avion:\n",
    "    def __init__(self,estado, embergadura, autonomia):\n",
    "        self.estado = estado\n",
    "        self.embergadura = embergadura\n",
    "        self.autonomia = autonomia\n",
    "\n",
    "    def iniciarVuelo(self):\n",
    "        self.estado = \"En vuelo\"\n",
    "\n",
    "    def repostar(self):\n",
    "        if self.autonomia <= 50 and self.estado == \"En Vuelo\":\n",
    "            print(\"Recargar\")\n",
    "        else:\n",
    "            print(\"hola\")"
   ]
  },
  {
   "cell_type": "code",
   "execution_count": null,
   "metadata": {},
   "outputs": [],
   "source": []
  }
 ],
 "metadata": {
  "kernelspec": {
   "display_name": "Python 3.10.5 64-bit",
   "language": "python",
   "name": "python3"
  },
  "language_info": {
   "codemirror_mode": {
    "name": "ipython",
    "version": 3
   },
   "file_extension": ".py",
   "mimetype": "text/x-python",
   "name": "python",
   "nbconvert_exporter": "python",
   "pygments_lexer": "ipython3",
   "version": "3.10.5"
  },
  "orig_nbformat": 4,
  "vscode": {
   "interpreter": {
    "hash": "547f7dadf6a198e170a95bcea63775165035e58207d600291c11f0b158e46d8d"
   }
  }
 },
 "nbformat": 4,
 "nbformat_minor": 2
}
