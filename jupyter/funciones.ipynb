{
 "cells": [
  {
   "cell_type": "markdown",
   "metadata": {},
   "source": [
    "FUNCIONES"
   ]
  },
  {
   "cell_type": "code",
   "execution_count": 17,
   "metadata": {},
   "outputs": [
    {
     "data": {
      "text/plain": [
       "'payload, propellant, structure'"
      ]
     },
     "execution_count": 17,
     "metadata": {},
     "output_type": "execute_result"
    }
   ],
   "source": [
    "def rocket_parts():\n",
    "    \n",
    "    return \"payload, propellant, structure\"\n",
    "\n",
    "#SALIDA\n",
    "salida = rocket_parts()\n",
    "#LA FUNCION SE LLAMA AFUERA  \n",
    "\n",
    "salida \n"
   ]
  },
  {
   "cell_type": "code",
   "execution_count": 26,
   "metadata": {},
   "outputs": [
    {
     "data": {
      "text/plain": [
       "'imposible calcular el destino'"
      ]
     },
     "execution_count": 26,
     "metadata": {},
     "output_type": "execute_result"
    }
   ],
   "source": [
    "def distancia_tierra(destino):\n",
    "    if destino == \"Moon\":\n",
    "        return \"238,855\"\n",
    "    else:\n",
    "        return \"imposible calcular el destino\"\n",
    "\n",
    "distancia_tierra(\"tierra\")"
   ]
  },
  {
   "cell_type": "code",
   "execution_count": 35,
   "metadata": {},
   "outputs": [
    {
     "name": "stdout",
     "output_type": "stream",
     "text": [
      "se demorara 133 dias en llegar\n"
     ]
    }
   ],
   "source": [
    "def distancia_tierra(destino, velocidad):\n",
    "    horas = destino / velocidad\n",
    "    return horas /24\n",
    "\n",
    "distancia = round(distancia_tierra(238855, 75))\n",
    "\n",
    "print(f'se demorara {distancia} dias en llegar')\n"
   ]
  },
  {
   "cell_type": "code",
   "execution_count": 72,
   "metadata": {},
   "outputs": [
    {
     "name": "stdout",
     "output_type": "stream",
     "text": [
      "\n",
      "    Tanque principal: 1 \n",
      "    Tanque externo: 5 \n",
      "    Tanque hidrogeno: 7\n"
     ]
    }
   ],
   "source": [
    "def generar_reporte(tanque_principal, tanque_externo, tanque_hidrogeno):\n",
    "\n",
    "    salida = f\"\"\"\n",
    "    Tanque principal: {tanque_principal} \n",
    "    Tanque externo: {tanque_externo} \n",
    "    Tanque hidrogeno: {tanque_hidrogeno}\"\"\"\n",
    "\n",
    "    print(salida)\n",
    "\n",
    "generar_reporte(1,5,7)\n",
    "\n",
    "\n"
   ]
  },
  {
   "cell_type": "code",
   "execution_count": 90,
   "metadata": {},
   "outputs": [
    {
     "name": "stdout",
     "output_type": "stream",
     "text": [
      "Luna llegada: Tuesday 14:35\n"
     ]
    }
   ],
   "source": [
    "from datetime import timedelta, datetime\n",
    "#se puede pasar el parametro hours con un valor definido y podemos llamar a la funciona vacia sin error\n",
    "def tiempo_llegada(destino,hours=51):\n",
    "    now = datetime.now()\n",
    "    arrival = now + timedelta(hours=hours)\n",
    "    print(arrival.strftime(f'{destino} llegada: %A %H:%M'))\n",
    "tiempo_llegada(\"Luna\", hours=0.13)"
   ]
  },
  {
   "cell_type": "code",
   "execution_count": 176,
   "metadata": {},
   "outputs": [
    {
     "data": {
      "text/plain": [
       "'Total time to launch is 8 minutes'"
      ]
     },
     "execution_count": 176,
     "metadata": {},
     "output_type": "execute_result"
    }
   ],
   "source": [
    "def sequence_time(*args):\n",
    "    #aqui se suman los argumentos\n",
    "    total_minutes = sum(args)\n",
    "    if total_minutes < 60:\n",
    "        return f\"Total time to launch is {total_minutes} minutes\"\n",
    "    else:\n",
    "        return f\"Total time to launch is {total_minutes/60} hours\"\n",
    "\n",
    "sequence_time(1,2,3,1,1)\n",
    "\n",
    "\n"
   ]
  },
  {
   "cell_type": "code",
   "execution_count": 169,
   "metadata": {},
   "outputs": [
    {
     "name": "stdout",
     "output_type": "stream",
     "text": [
      "pilotos asignados: 2\n",
      "piloto: buzz\n",
      "tanques: 4\n"
     ]
    }
   ],
   "source": [
    "#**kwargs recibe un numero ilimitado de valores\n",
    "def secuencia(**kwargs):\n",
    "    print(f'pilotos asignados: {len(kwargs)}')\n",
    "    #seteo el numero de parametros en kwargs\n",
    "    for pilotos, nombre in kwargs.items():\n",
    "        print(f'{pilotos}: {nombre}')\n",
    "secuencia(piloto='buzz',tanques=4)\n"
   ]
  },
  {
   "cell_type": "code",
   "execution_count": 177,
   "metadata": {},
   "outputs": [
    {
     "name": "stdout",
     "output_type": "stream",
     "text": [
      "3 astronauts assigned for this mission:\n",
      "pilot: Buzz Aldrin\n",
      "command_pilot: Michael Collins\n",
      "numero: 1\n"
     ]
    }
   ],
   "source": [
    "def crew_members(**kwargs):\n",
    "    print(f\"{len(kwargs)} astronauts assigned for this mission:\")\n",
    "    for title, name in kwargs.items():\n",
    "        print(f\"{title}: {name}\")\n",
    "\n",
    "crew_members(pilot=\"Buzz Aldrin\", command_pilot=\"Michael Collins\", numero=1)\n"
   ]
  },
  {
   "cell_type": "code",
   "execution_count": 204,
   "metadata": {},
   "outputs": [
    {
     "name": "stdout",
     "output_type": "stream",
     "text": [
      "cantidad de pilotos: 2\n",
      "piloto: buzz\n",
      "tanques: 4\n"
     ]
    }
   ],
   "source": [
    "#esta wea es puro truco\n",
    "def argumento(**args):\n",
    "    print(f'cantidad de pilotos: {len(args)}')\n",
    "    for piloto, tanques in args.items():\n",
    "        print(f'{piloto}: {tanques}')\n",
    "\n",
    "argumento(piloto=\"buzz\", tanques=4)"
   ]
  },
  {
   "cell_type": "code",
   "execution_count": 4,
   "metadata": {},
   "outputs": [
    {
     "name": "stdout",
     "output_type": "stream",
     "text": [
      "5\n"
     ]
    }
   ],
   "source": [
    "def func(n):\n",
    "\n",
    "    s = 0\n",
    "    while n > 0:\n",
    "\n",
    "        m = n % 10\n",
    "        s = s + 1\n",
    "        n = n // 10\n",
    "\n",
    "    return s\n",
    "\n",
    "n = 38759\n",
    "x = func(n)\n",
    "print(f\"{x}\")"
   ]
  },
  {
   "cell_type": "code",
   "execution_count": 7,
   "metadata": {},
   "outputs": [
    {
     "name": "stdout",
     "output_type": "stream",
     "text": [
      "Hay 51 letras\n"
     ]
    }
   ],
   "source": [
    "def cuantas_letras(datos):\n",
    "\n",
    "    total = 0\n",
    "\n",
    "    for linea in datos:\n",
    "\n",
    "\n",
    "        linea = linea.split()\n",
    "\n",
    "        n = 0\n",
    "\n",
    "        for palabra in linea:\n",
    "\n",
    "            n = n + len(palabra)\n",
    "\n",
    "\n",
    "        total = total + n\n",
    "\n",
    "    return total\n",
    "\n",
    "himno = [\"Puro Chile\",\"es tu cielo azulado\",\"puras brisas\",\"te cruzan tambien\"]\n",
    "\n",
    "\n",
    "w = cuantas_letras(himno)\n",
    "\n",
    "print(f\"Hay {w} letras\")"
   ]
  },
  {
   "cell_type": "markdown",
   "metadata": {},
   "source": [
    "MINIMOS Y MAXIMOS"
   ]
  },
  {
   "cell_type": "code",
   "execution_count": 11,
   "metadata": {},
   "outputs": [
    {
     "name": "stdout",
     "output_type": "stream",
     "text": [
      "(1, 40)\n"
     ]
    }
   ],
   "source": [
    "def min_max(lista):\n",
    "\n",
    "    valor_min = 999\n",
    "\n",
    "    valor_max = 0\n",
    "\n",
    "    for numero in lista:\n",
    "\n",
    "        if(numero < valor_min):\n",
    "\n",
    "            valor_min = numero\n",
    "\n",
    "        if(numero > valor_max):\n",
    "\n",
    "            valor_max = numero\n",
    "\n",
    "    return valor_min,valor_max\n",
    "print(min_max((1,10,40)))\n",
    "    "
   ]
  },
  {
   "cell_type": "code",
   "execution_count": 15,
   "metadata": {},
   "outputs": [
    {
     "name": "stdout",
     "output_type": "stream",
     "text": [
      "True\n"
     ]
    }
   ],
   "source": [
    "def todos_iguales(lista):\n",
    "    primero=lista[0]\n",
    "    for i in range(1,len(lista)):\n",
    "        if (primero != lista[i]):\n",
    "            return False\n",
    "    \n",
    "        return True\n",
    "\n",
    "print(todos_iguales((1,1,1)))\n",
    "            "
   ]
  },
  {
   "cell_type": "code",
   "execution_count": 17,
   "metadata": {},
   "outputs": [
    {
     "name": "stdout",
     "output_type": "stream",
     "text": [
      "agarrameelpico\n"
     ]
    }
   ],
   "source": [
    "def mas_larga(lista):\n",
    "    mas_larga = lista[0]\n",
    "    for i in range(1,len(lista)):\n",
    "        if(len(lista[i])>len(mas_larga)):\n",
    "            mas_larga = lista[i]\n",
    "    return mas_larga\n",
    "print(mas_larga((\"chupalo\",\"agarrameelpico\",\"pajarusa\")))"
   ]
  },
  {
   "cell_type": "code",
   "execution_count": 18,
   "metadata": {},
   "outputs": [
    {
     "name": "stdout",
     "output_type": "stream",
     "text": [
      "0.6294978370333524\n"
     ]
    }
   ],
   "source": [
    "from math import pi, sin\n",
    "from random import random, randint\n",
    "def func(r):\n",
    "\n",
    "    return sin(r*pi)\n",
    "\n",
    "n = 100\n",
    "s = 0\n",
    "for i in range(n):\n",
    "\n",
    "    s = s + func(random())\n",
    "\n",
    "print(f\"{s / n}\")"
   ]
  },
  {
   "cell_type": "code",
   "execution_count": 15,
   "metadata": {},
   "outputs": [
    {
     "name": "stdout",
     "output_type": "stream",
     "text": [
      "4\n"
     ]
    }
   ],
   "source": [
    "def func(s,x):\n",
    "\n",
    "    i,j = 0,0\n",
    "    while i < len(s):\n",
    "\n",
    "        if x < s[i]:\n",
    "\n",
    "            j = j + 1\n",
    "\n",
    "        i = i + 1\n",
    "\n",
    "    return j\n",
    "print(func((1,2,6,7,8,9,0),3))\n",
    "\n",
    "\n",
    "\n",
    "\n"
   ]
  },
  {
   "cell_type": "code",
   "execution_count": 2,
   "metadata": {},
   "outputs": [
    {
     "name": "stdout",
     "output_type": "stream",
     "text": [
      "2\n"
     ]
    }
   ],
   "source": [
    "def func(s,x):\n",
    "\n",
    "    i,j = 0,0\n",
    "    while i < len(s):\n",
    "\n",
    "        if x > s[i]:\n",
    "\n",
    "            j = j + 1\n",
    "\n",
    "        i = i + 1\n",
    "\n",
    "    return j\n",
    "print(func((1,13,4,8,9),5))"
   ]
  },
  {
   "cell_type": "code",
   "execution_count": 12,
   "metadata": {},
   "outputs": [
    {
     "name": "stdout",
     "output_type": "stream",
     "text": [
      "main: 50\n",
      "external: 100\n",
      "emergency: 60\n"
     ]
    }
   ],
   "source": [
    "def fuel_report(**fuel_tanks):\n",
    "    for name, value in fuel_tanks.items():\n",
    "        print(f'{name}: {value}')\n",
    "fuel_report(main=50, external=100, emergency=60)"
   ]
  },
  {
   "cell_type": "code",
   "execution_count": 16,
   "metadata": {},
   "outputs": [
    {
     "ename": "SyntaxError",
     "evalue": "(unicode error) 'unicodeescape' codec can't decode bytes in position 2-3: truncated \\UXXXXXXXX escape (3515100042.py, line 2)",
     "output_type": "error",
     "traceback": [
      "\u001b[1;36m  Input \u001b[1;32mIn [16]\u001b[1;36m\u001b[0m\n\u001b[1;33m    open(\"C:\\Users\\Kyshio\\Desktop\\vscode\\miproyecto\\codigo.py\")\u001b[0m\n\u001b[1;37m                                                              ^\u001b[0m\n\u001b[1;31mSyntaxError\u001b[0m\u001b[1;31m:\u001b[0m (unicode error) 'unicodeescape' codec can't decode bytes in position 2-3: truncated \\UXXXXXXXX escape\n"
     ]
    }
   ],
   "source": [
    "def main():\n",
    "    open(\"C:\\Users\\Kyshio\\Desktop\\vscode\\miproyecto\\codigo.py\")\n",
    "\n",
    "if __name__ == '__main__':\n",
    "    main()"
   ]
  },
  {
   "cell_type": "code",
   "execution_count": 95,
   "metadata": {},
   "outputs": [],
   "source": [
    "def main():\n",
    "    try:\n",
    "        configuration = open('config.txt')\n",
    "    except OSError as err:\n",
    "        if err.errno == 2:\n",
    "            print(\"Couldn't find the config.txt file!\")\n",
    "        elif err.errno == 13:\n",
    "            print(\"Found config.txt but couldn't read it\")\n",
    "        \n",
    "main()     \n",
    "    \n",
    "        \n"
   ]
  },
  {
   "cell_type": "code",
   "execution_count": 96,
   "metadata": {},
   "outputs": [],
   "source": [
    "loaded_config = \"\"\"# Rocket Ship Configuration File!\n",
    "fuel_tanks=4\n",
    "oxygen_tanks=3\n",
    "initial_propulsion_level=84\n",
    "$ End of file\"\"\"\n",
    "\n"
   ]
  },
  {
   "cell_type": "code",
   "execution_count": 97,
   "metadata": {},
   "outputs": [
    {
     "name": "stdout",
     "output_type": "stream",
     "text": [
      "Unable to parse # Rocket Ship Configuration File!\n",
      "Unable to parse $ End of file\n",
      "{'fuel_tanks': '4', 'oxygen_tanks': '3', 'initial_propulsion_level': '84'}\n"
     ]
    }
   ],
   "source": [
    "parsed_config = {}\n",
    "for line in loaded_config.split('\\n'):\n",
    "    try:\n",
    "        key, value = line.split('=')\n",
    "        parsed_config[key] = value\n",
    "    except ValueError:\n",
    "        print(f'Unable to parse {line}')\n",
    "print(parsed_config)"
   ]
  },
  {
   "cell_type": "code",
   "execution_count": 101,
   "metadata": {},
   "outputs": [
    {
     "data": {
      "text/plain": [
       "'Total water left after 10 days is: 90 liters'"
      ]
     },
     "execution_count": 101,
     "metadata": {},
     "output_type": "execute_result"
    }
   ],
   "source": [
    "def water_left(astronauts, water_left, days_left):\n",
    "    for argument in [astronauts, water_left, days_left]:\n",
    "        try:\n",
    "            # If argument is an int, the following operation will work\n",
    "            argument / 10\n",
    "        except (TypeError, ValueError):\n",
    "            # TypError will be raised only if it isn't the right type \n",
    "            # Raise the same exception but with a better error message\n",
    "            raise TypeError(f\"All arguments must be of type int, but received: '{argument}'\")\n",
    "    daily_usage = astronauts * 11\n",
    "    total_usage = daily_usage * days_left\n",
    "    total_water_left = water_left - total_usage\n",
    "    if total_water_left < 0:\n",
    "        raise RuntimeError(f\"There is not enough water for {astronauts} astronauts after {days_left} days!\")\n",
    "    return f\"Total water left after {days_left} days is: {total_water_left} liters\"\n",
    "water_left(1, 200, 10)   \n",
    "\n"
   ]
  },
  {
   "cell_type": "code",
   "execution_count": 109,
   "metadata": {},
   "outputs": [
    {
     "data": {
      "text/plain": [
       "False"
      ]
     },
     "execution_count": 109,
     "metadata": {},
     "output_type": "execute_result"
    }
   ],
   "source": [
    "\n",
    "true_values = ['yes', 'y']\n",
    "false_values = ['no', 'n']\n",
    "def str_to_bool(value):\n",
    "    value = value.lower()\n",
    "    if value in true_values:\n",
    "        return True\n",
    "    elif value in false_values:\n",
    "        return False\n",
    "    else:\n",
    "        raise ValueError('Invalid entry')\n",
    "\n",
    "str_to_bool(\"n\")\n",
    "\n",
    "\n"
   ]
  },
  {
   "cell_type": "code",
   "execution_count": 110,
   "metadata": {},
   "outputs": [
    {
     "name": "stdout",
     "output_type": "stream",
     "text": [
      "The number is 5\n"
     ]
    }
   ],
   "source": [
    "x = 5\n",
    "print('The number is ' + str(x))"
   ]
  }
 ],
 "metadata": {
  "kernelspec": {
   "display_name": "Python 3.10.5 ('miproyecto': venv)",
   "language": "python",
   "name": "python3"
  },
  "language_info": {
   "codemirror_mode": {
    "name": "ipython",
    "version": 3
   },
   "file_extension": ".py",
   "mimetype": "text/x-python",
   "name": "python",
   "nbconvert_exporter": "python",
   "pygments_lexer": "ipython3",
   "version": "3.10.5"
  },
  "orig_nbformat": 4,
  "vscode": {
   "interpreter": {
    "hash": "94f72e549b16f5944caac931e4a0eb7ff7644eb3296c8a419e20dd65c6bfb686"
   }
  }
 },
 "nbformat": 4,
 "nbformat_minor": 2
}
