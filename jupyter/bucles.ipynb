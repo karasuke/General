{
 "cells": [
  {
   "cell_type": "markdown",
   "metadata": {},
   "source": [
    ".lower se usa para que no distinga de mayusculas y minusculas"
   ]
  },
  {
   "cell_type": "code",
   "execution_count": 2,
   "metadata": {},
   "outputs": [],
   "source": [
    "user_input = input(\"\"\"ingrese \"done\" \"\"\")\n",
    "\n",
    "while user_input.lower() != 'done':\n",
    "    user_input = input('Enter a new value, or done when done')"
   ]
  },
  {
   "cell_type": "code",
   "execution_count": 6,
   "metadata": {},
   "outputs": [
    {
     "name": "stdout",
     "output_type": "stream",
     "text": [
      "['pedro', 'juan']\n"
     ]
    }
   ],
   "source": [
    "# crea una variable para el valor que ingresa el usuario\n",
    "ingreso_usuario = input(\"ingrese un valor \")\n",
    "# Create the list to store the values\n",
    "valores = []\n",
    "\n",
    "# The while loop\n",
    "while ingreso_usuario.lower() != \"done\":\n",
    "    # Check if there's a value in user_input\n",
    "    if ingreso_usuario:\n",
    "        # Store the value in the list\n",
    "        valores.append(ingreso_usuario)\n",
    "    # Prompt for a new value\n",
    "    ingreso_usuario = input('Enter a new value, or done when done')\n",
    "print(valores)"
   ]
  },
  {
   "cell_type": "markdown",
   "metadata": {},
   "source": [
    "También puede determinar el número de elementos de una lista mediante len. Por lo tanto, podría usar un bucle while y un contador para recorrer en bucle o en iteración cada elemento de la lista. Dado que se trata de una operación tan común, Python proporciona bucles for, que puede usar para recorrer en iteración las listas."
   ]
  },
  {
   "cell_type": "code",
   "execution_count": null,
   "metadata": {},
   "outputs": [],
   "source": [
    "planets = [\"Mercury\", \"Venus\", \"Earth\", \"Mars\", \"Jupiter\", \"Saturn\", \"Uranus\", \"Neptune\"]\n",
    "print(\"The first planet is \", planets[0])\n",
    "print(\"The second planet is \", planets[1])\n",
    "print(\"The third planet is \", planets[2])\n"
   ]
  },
  {
   "cell_type": "code",
   "execution_count": 9,
   "metadata": {},
   "outputs": [
    {
     "name": "stdout",
     "output_type": "stream",
     "text": [
      "4\n",
      "3\n",
      "2\n",
      "1\n",
      "0\n",
      "Blast off!! 🚀\n"
     ]
    }
   ],
   "source": [
    "from time import sleep\n",
    "countdown = [4, 3, 2, 1, 0]\n",
    "for number in countdown:\n",
    "    print(number)\n",
    "    sleep(1)\n",
    "print(\"Blast off!! 🚀\")"
   ]
  },
  {
   "cell_type": "code",
   "execution_count": 2,
   "metadata": {},
   "outputs": [
    {
     "name": "stdout",
     "output_type": "stream",
     "text": [
      "boris\n",
      "zepeda\n"
     ]
    }
   ],
   "source": [
    "# crea una variable para el valor que ingresa el usuario\n",
    "# Create the list to store the values\n",
    "# The while loop\n",
    "# Check if there's a value in user_input\n",
    "# Store the value in the list\n",
    "# Prompt for a new value\n",
    "\n",
    "\n",
    "peticion_ingreso_usuario = input(\"ingrese un valor: \")\n",
    "valores_guardados = []\n",
    "\n",
    "while peticion_ingreso_usuario != \"fin\":\n",
    "   if peticion_ingreso_usuario:\n",
    "      valores_guardados.append(peticion_ingreso_usuario)\n",
    "   peticion_ingreso_usuario =input(\"ingrese fin si desea finalizar\")\n",
    "\n",
    "for valores in valores_guardados:\n",
    "   print(valores)"
   ]
  }
 ],
 "metadata": {
  "kernelspec": {
   "display_name": "Python 3.10.5 ('miproyecto': venv)",
   "language": "python",
   "name": "python3"
  },
  "language_info": {
   "codemirror_mode": {
    "name": "ipython",
    "version": 3
   },
   "file_extension": ".py",
   "mimetype": "text/x-python",
   "name": "python",
   "nbconvert_exporter": "python",
   "pygments_lexer": "ipython3",
   "version": "3.10.5"
  },
  "orig_nbformat": 4,
  "vscode": {
   "interpreter": {
    "hash": "94f72e549b16f5944caac931e4a0eb7ff7644eb3296c8a419e20dd65c6bfb686"
   }
  }
 },
 "nbformat": 4,
 "nbformat_minor": 2
}
