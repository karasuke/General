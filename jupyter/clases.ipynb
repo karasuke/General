{
 "cells": [
  {
   "cell_type": "code",
   "execution_count": 7,
   "metadata": {},
   "outputs": [
    {
     "name": "stdout",
     "output_type": "stream",
     "text": [
      "The elevator company\n",
      "1\n"
     ]
    }
   ],
   "source": [
    "class Elevator:\n",
    "    def __init__(self, starting_floor):\n",
    "        self.make = \"The elevator company\"\n",
    "        self.floor = starting_floor\n",
    "\n",
    "elevator = Elevator(1)\n",
    "print(elevator.make) # \"The Elevator company\"\n",
    "print(elevator.floor) # 1        "
   ]
  },
  {
   "cell_type": "code",
   "execution_count": 12,
   "metadata": {},
   "outputs": [
    {
     "name": "stdout",
     "output_type": "stream",
     "text": [
      "the elevator company\n",
      "1\n"
     ]
    }
   ],
   "source": [
    "class elevator:\n",
    "    def __init__(self, starting_floor):\n",
    "        self.make = \"the elevator company\"\n",
    "        self.floor = starting_floor\n",
    "elevador = elevator(1)\n",
    "print(elevador.make)\n",
    "print(elevador.floor)\n",
    "        "
   ]
  },
  {
   "cell_type": "code",
   "execution_count": null,
   "metadata": {},
   "outputs": [],
   "source": [
    "class avion:\n",
    "    def __init__(self,estado, embergadura, autonomia):\n",
    "        self.estado = estado\n",
    "        self.embergadura = embergadura\n",
    "        self.autonomia = autonomia\n",
    "\n",
    "    def iniciarVuelo(self):\n",
    "        self.estado = \"En vuelo\"\n",
    "\n",
    "    def repostar(self):\n",
    "        if self.autonomia <= 50 and self.estado == \"En Vuelo\":\n",
    "            print(\"Recargar\")\n",
    "        else:\n",
    "            print(\"hola\")"
   ]
  }
 ],
 "metadata": {
  "kernelspec": {
   "display_name": "Python 3.10.5 ('miproyecto': venv)",
   "language": "python",
   "name": "python3"
  },
  "language_info": {
   "codemirror_mode": {
    "name": "ipython",
    "version": 3
   },
   "file_extension": ".py",
   "mimetype": "text/x-python",
   "name": "python",
   "nbconvert_exporter": "python",
   "pygments_lexer": "ipython3",
   "version": "3.10.5"
  },
  "orig_nbformat": 4,
  "vscode": {
   "interpreter": {
    "hash": "94f72e549b16f5944caac931e4a0eb7ff7644eb3296c8a419e20dd65c6bfb686"
   }
  }
 },
 "nbformat": 4,
 "nbformat_minor": 2
}
