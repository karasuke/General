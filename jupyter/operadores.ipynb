{
 "cells": [
  {
   "cell_type": "markdown",
   "metadata": {},
   "source": [
    "El paso siguiente es determinar el número de segundos. Este es el resto de 1042 si divide por 60. Para encontrar el resto, use el operador módulo, que en Python es %. El resto de 1042 / 60 es 22, que es el valor que el operador módulo proporcionará."
   ]
  },
  {
   "cell_type": "code",
   "execution_count": null,
   "metadata": {},
   "outputs": [],
   "source": [
    "seconds = 1042\n",
    "display_minutes = 1042 // 60\n",
    "display_seconds = 1042 % 60\n",
    "\n",
    "print(display_minutes)\n",
    "print(display_seconds)\n",
    "\n",
    "# Output:\n",
    "# 17\n",
    "# 22"
   ]
  },
  {
   "cell_type": "code",
   "execution_count": 12,
   "metadata": {
    "vscode": {
     "languageId": "markdown"
    }
   },
   "outputs": [
    {
     "name": "stdout",
     "output_type": "stream",
     "text": [
      "628949330\n",
      "390810995.0389724\n"
     ]
    }
   ],
   "source": [
    "first_planet = 149597870\n",
    "second_planet = 778547200\n",
    "distancia_km = second_planet - first_planet\n",
    "print(distancia_km)\n",
    "conversion_en_millas = distancia_km / 1.609344\n",
    "print(conversion_en_millas)"
   ]
  },
  {
   "cell_type": "markdown",
   "metadata": {},
   "source": [
    "Ejercicio: Conversión de cadenas en números y uso de valores absolutos"
   ]
  },
  {
   "cell_type": "code",
   "execution_count": 20,
   "metadata": {},
   "outputs": [
    {
     "name": "stdout",
     "output_type": "stream",
     "text": [
      "1\n"
     ]
    }
   ],
   "source": [
    "first_planet_input = int(input('Enter the distance from the sun for the first planet in KM'))\n",
    "second_planet_input = int(input('Enter the distance from the sun for the second planet in KM'))\n",
    "distance_km = second_planet_input - first_planet_input\n",
    "print(distance_km)\n"
   ]
  }
 ],
 "metadata": {
  "kernelspec": {
   "display_name": "Python 3.10.5 ('miproyecto': venv)",
   "language": "python",
   "name": "python3"
  },
  "language_info": {
   "codemirror_mode": {
    "name": "ipython",
    "version": 3
   },
   "file_extension": ".py",
   "mimetype": "text/x-python",
   "name": "python",
   "nbconvert_exporter": "python",
   "pygments_lexer": "ipython3",
   "version": "3.10.5"
  },
  "orig_nbformat": 4,
  "vscode": {
   "interpreter": {
    "hash": "94f72e549b16f5944caac931e4a0eb7ff7644eb3296c8a419e20dd65c6bfb686"
   }
  }
 },
 "nbformat": 4,
 "nbformat_minor": 2
}
